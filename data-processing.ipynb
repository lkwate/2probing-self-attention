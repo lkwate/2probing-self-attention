{
 "cells": [
  {
   "cell_type": "code",
   "execution_count": 6,
   "id": "fc746a3e",
   "metadata": {},
   "outputs": [],
   "source": [
    "import os\n",
    "import pandas as pd\n",
    "import json\n",
    "from tqdm import tqdm\n",
    "import re"
   ]
  },
  {
   "cell_type": "code",
   "execution_count": 7,
   "id": "928d1c55",
   "metadata": {},
   "outputs": [],
   "source": [
    "label_set = {\"neutral\", \"contradiction\", \"entailment\"}"
   ]
  },
  {
   "cell_type": "code",
   "execution_count": 8,
   "id": "1454b5e2",
   "metadata": {},
   "outputs": [],
   "source": [
    "def parse_mnli(input_filepath:str):\n",
    "    \"\"\"Extract the sentence pair and the corresponding label\n",
    "    Args:\n",
    "        input_filepath: path of the file containing bulk data\n",
    "        output_filepath: path of the file where the parsed data will be saved\n",
    "    \"\"\"\n",
    "    def trim(text):\n",
    "        out = text.strip()\n",
    "        out = re.sub(\" +\", \" \", out)\n",
    "        return out\n",
    "    \n",
    "    paths = input_filepath.split(\"/\")\n",
    "    filename = \".\".join(paths[-1].split(\".\")[:-1])\n",
    "    paths[-1] = f\"{filename}.csv\"\n",
    "    output_filepath = \"/\".join(paths)\n",
    "    data = []\n",
    "    for line in tqdm(open(input_filepath).readlines()):\n",
    "        item = json.loads(line)\n",
    "        if item[\"gold_label\"] not in label_set:\n",
    "            continue\n",
    "        data.append([item[\"pairID\"], trim(item[\"sentence1\"]), trim(item[\"sentence2\"]), item[\"gold_label\"]])\n",
    "    data = pd.DataFrame(data=data, columns=[\"pairID\", \"sentence1\", \"sentence2\", \"label\"])\n",
    "    data.to_csv(output_filepath, index=False)"
   ]
  },
  {
   "cell_type": "code",
   "execution_count": 9,
   "id": "d4b4f525",
   "metadata": {},
   "outputs": [
    {
     "name": "stderr",
     "output_type": "stream",
     "text": [
      "100%|██████████| 392702/392702 [00:05<00:00, 75069.95it/s]\n",
      "100%|██████████| 10000/10000 [00:00<00:00, 71742.14it/s]\n",
      "100%|██████████| 10000/10000 [00:00<00:00, 73503.04it/s]\n"
     ]
    }
   ],
   "source": [
    "parse_mnli(\"multinli_1.0/multinli_1.0_train.jsonl\")\n",
    "parse_mnli(\"multinli_1.0/multinli_1.0_dev_matched.jsonl\")\n",
    "parse_mnli(\"multinli_1.0/multinli_1.0_dev_mismatched.jsonl\")"
   ]
  },
  {
   "cell_type": "code",
   "execution_count": 10,
   "id": "7f1efe51",
   "metadata": {},
   "outputs": [
    {
     "name": "stderr",
     "output_type": "stream",
     "text": [
      "100%|██████████| 10000/10000 [00:00<00:00, 81442.64it/s]\n",
      "100%|██████████| 10000/10000 [00:00<00:00, 88390.27it/s]\n",
      "100%|██████████| 550152/550152 [00:05<00:00, 95167.08it/s] \n"
     ]
    }
   ],
   "source": [
    "parse_mnli(\"snli_1.0/snli_1.0_dev.jsonl\")\n",
    "parse_mnli(\"snli_1.0/snli_1.0_test.jsonl\")\n",
    "parse_mnli(\"snli_1.0/snli_1.0_train.jsonl\")"
   ]
  }
 ],
 "metadata": {
  "kernelspec": {
   "display_name": "Python 3",
   "language": "python",
   "name": "python3"
  },
  "language_info": {
   "codemirror_mode": {
    "name": "ipython",
    "version": 3
   },
   "file_extension": ".py",
   "mimetype": "text/x-python",
   "name": "python",
   "nbconvert_exporter": "python",
   "pygments_lexer": "ipython3",
   "version": "3.8.10"
  }
 },
 "nbformat": 4,
 "nbformat_minor": 5
}
